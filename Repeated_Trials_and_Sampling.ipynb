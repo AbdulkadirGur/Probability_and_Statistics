{
 "cells": [
  {
   "cell_type": "code",
   "execution_count": 2,
   "metadata": {},
   "outputs": [
    {
     "name": "stdout",
     "output_type": "stream",
     "text": [
      "120\n"
     ]
    }
   ],
   "source": [
    "def fac_1(n=10):#factoriyel calculate \n",
    "    #n=10\n",
    "    t=1\n",
    "    for i in range(1,n+1):\n",
    "      t=t*i\n",
    "    # print(\"i\",t)\n",
    "    return t\n",
    "r=fac_1(5)\n",
    "print(r)"
   ]
  },
  {
   "cell_type": "code",
   "execution_count": 3,
   "metadata": {},
   "outputs": [
    {
     "name": "stdout",
     "output_type": "stream",
     "text": [
      "120\n"
     ]
    }
   ],
   "source": [
    "def combination_1(n,k):#combination calculate\n",
    "    a=fac_1(n)\n",
    "    b=fac_1(k)\n",
    "    c=fac_1(n-k)\n",
    "    return int (a/(b*c))\n",
    "r=combination_1(10,3)\n",
    "print(r)"
   ]
  },
  {
   "cell_type": "code",
   "execution_count": 4,
   "metadata": {},
   "outputs": [
    {
     "name": "stdout",
     "output_type": "stream",
     "text": [
      "1024\n"
     ]
    }
   ],
   "source": [
    "def power_1(p,k):#power calculate\n",
    "    t=1\n",
    "    for i in range(k):\n",
    "        t=t*p\n",
    "    return t\n",
    "r = power_1(2,10)\n",
    "print(r)"
   ]
  },
  {
   "cell_type": "code",
   "execution_count": 5,
   "metadata": {},
   "outputs": [
    {
     "name": "stdout",
     "output_type": "stream",
     "text": [
      "0.1171875\n"
     ]
    }
   ],
   "source": [
    "def p_k(n,k,p=1/2,q=1/2):#binomial probabilities \n",
    " \n",
    "    a= combination_1(n,k)\n",
    "    b=power_1(p,k)\n",
    "    c=power_1(q,n-k)\n",
    "    return (a*b*c)\n",
    "r=p_k(10,3)\n",
    "print(r)"
   ]
  },
  {
   "cell_type": "code",
   "execution_count": 6,
   "metadata": {},
   "outputs": [
    {
     "name": "stdout",
     "output_type": "stream",
     "text": [
      "0.205078125 0.205078125\n"
     ]
    }
   ],
   "source": [
    "k=6\n",
    "r=p_k(10,4) \n",
    "c=p_k(10,6)\n",
    "print(r,c)"
   ]
  },
  {
   "cell_type": "code",
   "execution_count": 7,
   "metadata": {},
   "outputs": [
    {
     "name": "stdout",
     "output_type": "stream",
     "text": [
      "0 3.207202185381504e-13\n",
      "1 1.0690673951271679e-11\n",
      "2 1.763961201959827e-10\n",
      "3 1.920757753245145e-09\n",
      "4 1.5526125172064923e-08\n",
      "5 9.936720110121551e-08\n",
      "6 5.244380058119708e-07\n",
      "7 2.347484406967869e-06\n",
      "8 9.096502077000493e-06\n",
      "9 3.0995488558668345e-05\n",
      "10 9.401964862796065e-05\n",
      "11 0.0002564172235308018\n",
      "12 0.0006339203581733711\n",
      "13 0.001430384397929658\n",
      "14 0.002962939109997149\n",
      "15 0.005662505854661217\n",
      "16 0.01002735411762924\n",
      "17 0.016515642076095217\n",
      "18 0.025385153561405614\n",
      "19 0.03651899284272386\n",
      "20 0.04930064033767721\n",
      "21 0.06260398773038377\n",
      "22 0.07493507622273209\n",
      "23 0.08470921659961018\n",
      "24 0.09059180108569422\n",
      "25 0.0917996917668368\n",
      "26 0.08826893439118924\n",
      "27 0.08064075487590128\n",
      "28 0.07008065602310468\n",
      "29 0.05799778429498318\n",
      "30 0.04575380761048674\n",
      "31 0.03443834981434485\n",
      "32 0.02475256392906036\n",
      "33 0.017001761082586917\n",
      "34 0.011167823456209054\n",
      "35 0.007019774743902834\n",
      "36 0.004224864429200779\n",
      "37 0.0024359578690887375\n",
      "38 0.001346187243443776\n",
      "39 0.0007133641802864454\n",
      "40 0.00036262679164560964\n",
      "41 0.00017689111787590718\n",
      "42 8.2829967894274e-05\n",
      "43 3.724138091370458e-05\n",
      "44 1.608150539455425e-05\n",
      "45 6.6708466821854675e-06\n",
      "46 2.6586707791318894e-06\n",
      "47 1.0182143409441279e-06\n",
      "48 3.7475944493082483e-07\n",
      "49 1.325679669143054e-07\n",
      "50 4.5073108750863835e-08\n",
      "51 1.4729774101589488e-08\n",
      "52 4.626659813960801e-09\n",
      "53 1.3967274910070343e-09\n",
      "54 4.0522340788475686e-10\n",
      "55 1.1297137431938677e-10\n",
      "56 3.0260189549835735e-11\n",
      "57 7.786247603466506e-12\n",
      "58 1.9241876261440214e-12\n",
      "59 4.565868943392594e-13\n",
      "60 1.040003481550535e-13\n",
      "61 2.2732316536623717e-14\n",
      "62 4.766453467356586e-15\n",
      "63 9.583345595743398e-16\n",
      "64 1.8467905575130508e-16\n",
      "65 3.409459490793325e-17\n",
      "66 6.026822332210423e-18\n",
      "67 1.0194624840554945e-18\n",
      "68 1.6491304889132999e-19\n",
      "69 2.5493804659529272e-20\n",
      "70 3.76337116402575e-21\n",
      "71 5.30052276623345e-22\n",
      "72 7.116442602813429e-23\n",
      "73 9.098648076656439e-24\n",
      "74 1.1065923336474048e-24\n",
      "75 1.2787289188814456e-25\n",
      "76 1.4021150426331638e-26\n",
      "77 1.4567429014370533e-27\n",
      "78 1.4318413133783002e-28\n",
      "79 1.3291353963849202e-29\n",
      "80 1.162993471836805e-30\n",
      "81 9.571962731167119e-32\n",
      "82 7.392979345210377e-33\n",
      "83 5.344322418224369e-34\n",
      "84 3.605296869437075e-35\n",
      "85 2.2621470553330664e-36\n",
      "86 1.3152017763564338e-37\n",
      "87 7.054722172026849e-39\n",
      "88 3.473916221073827e-40\n",
      "89 1.561310661156776e-41\n",
      "90 6.360895286194273e-43\n",
      "91 2.3299982733312356e-44\n",
      "92 7.597820456514899e-46\n",
      "93 2.1785865108286448e-47\n",
      "94 5.407838856666849e-49\n",
      "95 1.1384923908772313e-50\n",
      "96 1.9765492897174155e-52\n",
      "97 2.716906240161396e-54\n",
      "98 2.7723533062871386e-56\n",
      "99 1.8669045833583425e-58\n"
     ]
    }
   ],
   "source": [
    "n,p,q=100,1/4,3/4     #    Dice is rolled 100 times if the probability of getting heads is 1/4 \n",
    "for k in range(n):\n",
    "    r=p_k(n,k,p,q)\n",
    "    print(k,r)"
   ]
  },
  {
   "cell_type": "code",
   "execution_count": 8,
   "metadata": {},
   "outputs": [
    {
     "name": "stdout",
     "output_type": "stream",
     "text": [
      "0.34375\n"
     ]
    }
   ],
   "source": [
    "\"\"\"\n",
    "#Example 1. Coin tossing and sex of children. \n",
    "#Problem 1. Find the probability of getting four or more heads in six tosses of a fair coin. \n",
    "#Solution. P(4 or more heads in 6 tosses) = P(4) + P(5) + P(6), \"\"\"\n",
    "\n",
    "a=combination_1(6,4)\n",
    "b=combination_1(6,5)\n",
    "c=combination_1(6,6)\n",
    "d=power_1(2,6)\n",
    "result = ((a+b+c)/d)\n",
    "print(result)\n"
   ]
  },
  {
   "cell_type": "code",
   "execution_count": 11,
   "metadata": {},
   "outputs": [
    {
     "name": "stdout",
     "output_type": "stream",
     "text": [
      "0.2255459427833557\n"
     ]
    }
   ],
   "source": [
    "\"\"\"\n",
    "#Problem 2. What is the probability that among five families, each with six children, at least three of the families have four or more girls? \n",
    "\n",
    "#Solution\n",
    " Assume that each child in each family is equally likely to be a boy or a girl, independently of all other children.\n",
    "Then the chance that any particular family has four \n",
    "or more girls is p = 11/32, by the solution of the previous problem. Call this event \n",
    "a success in the present problem. Then the probability that at least 3 of the families \n",
    "have 4 or more girls is the probability of at least 3 successes in n = 5 trials, with \n",
    "probability p = 11/32 of success on each trial. So the required probability is \n",
    "#                     P(3 successes) + P(4 successes) + P(5 successes)\n",
    "k=success state \n",
    "n=trial\n",
    "p=the status of success\n",
    "q=the unsuccessful situation\n",
    "P(k)=combination(n/k)  *  power(p**k)  *  power(q**n-k)\n",
    "\"\"\"\n",
    "p3=combination_1(5,3)*power_1(11/32,3)*power_1(21/32,2)\n",
    "p4=combination_1(5,4)*power_1(11/32,4)*power_1(21/32,1)\n",
    "p5=combination_1(5,5)*power_1(11/32,5)*power_1(21/32,0)\n",
    "result=p3+p4+p5\n",
    "print(result)\n",
    "\n"
   ]
  }
 ],
 "metadata": {
  "interpreter": {
   "hash": "c43cc35bf10d47ee272d24c9e8f3a3c68ece12bba4bc202b3d531e99134b684d"
  },
  "kernelspec": {
   "display_name": "Python 3.10.0 64-bit",
   "language": "python",
   "name": "python3"
  },
  "language_info": {
   "codemirror_mode": {
    "name": "ipython",
    "version": 3
   },
   "file_extension": ".py",
   "mimetype": "text/x-python",
   "name": "python",
   "nbconvert_exporter": "python",
   "pygments_lexer": "ipython3",
   "version": "3.10.0"
  },
  "orig_nbformat": 4
 },
 "nbformat": 4,
 "nbformat_minor": 2
}
